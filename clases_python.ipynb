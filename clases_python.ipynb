{
 "cells": [
  {
   "cell_type": "markdown",
   "metadata": {},
   "source": [
    "#### Crear la clase coche con los atributos marca, modelo y año"
   ]
  },
  {
   "cell_type": "code",
   "execution_count": 18,
   "metadata": {},
   "outputs": [],
   "source": [
    "class Coche:\n",
    "    def __init__(self, marca, modelo, año):\n",
    "        self.marca = marca\n",
    "        self.modelo = modelo\n",
    "        self.año = año\n",
    "        \n",
    "    def acelerar(self):\n",
    "        print(f'El {self.marca} {self.modelo} del año {self.año} acelera')\n",
    "    \n",
    "    def frenar(self):\n",
    "        print(f'El {self.marca} {self.modelo} del año {self.año} frena')\n",
    "        "
   ]
  },
  {
   "cell_type": "markdown",
   "metadata": {},
   "source": [
    "#### Con la clase coche creada, añadir 3 coches con sus respectivos atributos."
   ]
  },
  {
   "cell_type": "code",
   "execution_count": 19,
   "metadata": {},
   "outputs": [
    {
     "name": "stdout",
     "output_type": "stream",
     "text": [
      "El coche es un Renault, modelo Captur del año 2015\n",
      "El coche es un Seat, modelo Ibiza del año 1995\n",
      "El coche es un Audi, modelo A3 del año 2020\n"
     ]
    },
    {
     "data": {
      "text/plain": [
       "<bound method Coche.acelerar of <__main__.Coche object at 0x10791fe80>>"
      ]
     },
     "execution_count": 19,
     "metadata": {},
     "output_type": "execute_result"
    }
   ],
   "source": [
    "coche1 = Coche('Renault', 'Captur', 2015)\n",
    "coche2 = Coche('Seat', 'Ibiza', 1995)\n",
    "coche3 = Coche('Audi', 'A3', 2020)\n",
    "\n",
    "def describir_coche(self):\n",
    "    print(f'El coche es un {self.marca}, modelo {self.modelo} del año {self.año}')\n",
    "\n",
    "describir_coche(coche1)\n",
    "describir_coche(coche2)\n",
    "describir_coche(coche3)\n",
    "\n",
    "coche1.acelerar"
   ]
  },
  {
   "cell_type": "markdown",
   "metadata": {},
   "source": [
    "#### Añadir a la clase principal, acelerar, frenar como funcione"
   ]
  },
  {
   "cell_type": "markdown",
   "metadata": {},
   "source": []
  },
  {
   "cell_type": "code",
   "execution_count": 17,
   "metadata": {},
   "outputs": [
    {
     "name": "stdout",
     "output_type": "stream",
     "text": [
      "El Renault Captur del año 2015 acelera\n",
      "El Seat Ibiza del año 1995 frena\n"
     ]
    }
   ],
   "source": [
    "   \n",
    "    \n",
    "acelerar(coche1)\n",
    "frenar(coche2)"
   ]
  },
  {
   "cell_type": "code",
   "execution_count": null,
   "metadata": {},
   "outputs": [],
   "source": []
  }
 ],
 "metadata": {
  "kernelspec": {
   "display_name": "Python 3",
   "language": "python",
   "name": "python3"
  },
  "language_info": {
   "codemirror_mode": {
    "name": "ipython",
    "version": 3
   },
   "file_extension": ".py",
   "mimetype": "text/x-python",
   "name": "python",
   "nbconvert_exporter": "python",
   "pygments_lexer": "ipython3",
   "version": "3.9.6"
  }
 },
 "nbformat": 4,
 "nbformat_minor": 2
}
